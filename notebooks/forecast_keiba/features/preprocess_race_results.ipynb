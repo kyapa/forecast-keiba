{
 "cells": [
  {
   "cell_type": "markdown",
   "metadata": {},
   "source": [
    "## notebook only"
   ]
  },
  {
   "cell_type": "code",
   "execution_count": 1,
   "metadata": {},
   "outputs": [
    {
     "name": "stdout",
     "output_type": "stream",
     "text": [
      "2020-09-21 06:55:00,532 - kedro.io.data_catalog - INFO - Loading data from `race_results_df` (PickleDataSet)...\n"
     ]
    }
   ],
   "source": [
    "# kedro\n",
    "from kedro.framework.context import load_context\n",
    "proj_path = '../../../' \n",
    "context = load_context(proj_path)\n",
    "race_results_df = catalog.load(\"race_results_df\")\n",
    "parameters = context.params\n",
    "\n",
    "# import from src\n",
    "sys.path.append(\"./../../../src/forecast_keiba/\")\n",
    "from features.preprocess_race_results import preprocessing\n",
    "from features.preprocess_race_results import process_categorical"
   ]
  },
  {
   "cell_type": "markdown",
   "metadata": {},
   "source": [
    "## import文\n",
    "メイン関数実行のため"
   ]
  },
  {
   "cell_type": "code",
   "execution_count": 2,
   "metadata": {},
   "outputs": [],
   "source": [
    "import pandas as pd\n",
    "import time\n",
    "from tqdm.notebook import tqdm\n",
    "import datetime\n",
    "import requests\n",
    "from bs4 import BeautifulSoup\n",
    "import re\n",
    "import numpy as np\n",
    "from sklearn.metrics import roc_auc_score\n",
    "from sklearn.model_selection import train_test_split\n",
    "from sklearn.metrics import accuracy_score\n",
    "from sklearn.metrics import precision_score\n",
    "from sklearn.ensemble import RandomForestClassifier\n",
    "from sklearn.metrics import confusion_matrix\n",
    "from pandas.plotting import scatter_matrix\n",
    "from sklearn.linear_model import LogisticRegression\n",
    "from sklearn.preprocessing import StandardScaler\n",
    "from sklearn.preprocessing import LabelEncoder\n",
    "from imblearn.under_sampling import RandomUnderSampler"
   ]
  },
  {
   "cell_type": "markdown",
   "metadata": {},
   "source": [
    "## メイン関数"
   ]
  },
  {
   "cell_type": "code",
   "execution_count": 3,
   "metadata": {},
   "outputs": [],
   "source": [
    "def preprocess_race_results(race_results_df, parameters):\n",
    "    print('start preprocess_race_results')\n",
    "    race_results_df = race_results_df[(race_results_df['date'] > dt.datetime(parameters['train_year_start'],parameters['train_month_start'],1)) & (race_results_df['date'] < dt.datetime(parameters['train_year_end'],parameters['train_year_end'],29))]\n",
    "    race_results_df_processed = preprocessing(race_results_df)\n",
    "    target_columns = []\n",
    "    for i in range(62):\n",
    "        target_columns.append('peds_'+str(i))\n",
    "    race_results_df_processed = process_categorical(race_results_df_processed, target_columns)\n",
    "    race_results_df_processed.to_pickle('../../../data/processed/race_results_df_processed.pickle')\n",
    "    return race_results_df_processed"
   ]
  },
  {
   "cell_type": "code",
   "execution_count": 4,
   "metadata": {},
   "outputs": [
    {
     "name": "stdout",
     "output_type": "stream",
     "text": [
      "start preprocess_race_results\n"
     ]
    }
   ],
   "source": [
    "def main(race_results_df, parameters):\n",
    "    return preprocess_race_results(race_results_df, parameters)\n",
    "\n",
    "if __name__ == \"__main__\":\n",
    "    main(race_results_df, parameters)"
   ]
  }
 ],
 "metadata": {
  "kernelspec": {
   "display_name": "forecastkeiba",
   "language": "python",
   "name": "python3"
  },
  "language_info": {
   "codemirror_mode": {
    "name": "ipython",
    "version": 3
   },
   "file_extension": ".py",
   "mimetype": "text/x-python",
   "name": "python",
   "nbconvert_exporter": "python",
   "pygments_lexer": "ipython3",
   "version": "3.7.4"
  }
 },
 "nbformat": 4,
 "nbformat_minor": 4
}
