{
 "cells": [
  {
   "cell_type": "markdown",
   "metadata": {},
   "source": [
    "## notebook only"
   ]
  },
  {
   "cell_type": "code",
   "execution_count": 1,
   "metadata": {},
   "outputs": [
    {
     "name": "stdout",
     "output_type": "stream",
     "text": [
      "2020-09-21 15:56:52,286 - kedro.io.data_catalog - INFO - Loading data from `model_lightgbm` (PickleDataSet)...\n"
     ]
    }
   ],
   "source": [
    "# kedro\n",
    "from kedro.framework.context import load_context\n",
    "proj_path = '../../../' \n",
    "context = load_context(proj_path)\n",
    "model_lightgbm = catalog.load(\"model_lightgbm\")\n",
    "parameters = context.params\n",
    "\n",
    "# import from src\n",
    "sys.path.append(\"./../../../src/forecast_keiba/\")\n",
    "from models.predict_lightgbm import scrape_race_info\n",
    "from models.predict_lightgbm import scrape_id\n",
    "from models.predict_lightgbm import make_horse_table\n",
    "from models.predict_lightgbm import scrape_race_span\n",
    "from models.predict_lightgbm import scrape_race_predict\n",
    "from models.predict_lightgbm import scrape_horse_results\n",
    "from models.predict_lightgbm import HorseResults\n",
    "from models.predict_lightgbm import scrape_peds\n",
    "from models.predict_lightgbm import process_categorical\n",
    "from models.predict_lightgbm import add_blood_data\n",
    "from models.predict_lightgbm import scrape_jockey_results\n",
    "from models.predict_lightgbm import preprocessing_predict\n",
    "from models.predict_lightgbm import preprocess_race_predict\n",
    "from models.predict_lightgbm import compare_df"
   ]
  },
  {
   "cell_type": "markdown",
   "metadata": {},
   "source": [
    "## import\n",
    "メイン関数実行のため"
   ]
  },
  {
   "cell_type": "code",
   "execution_count": 2,
   "metadata": {},
   "outputs": [],
   "source": [
    "import pandas as pd\n",
    "import time\n",
    "from tqdm.notebook import tqdm\n",
    "import datetime\n",
    "import requests\n",
    "from bs4 import BeautifulSoup\n",
    "import re\n",
    "import numpy as np\n",
    "import matplotlib as mpl\n",
    "import matplotlib.pyplot as plt\n",
    "import pickle\n",
    "import seaborn as sns\n",
    "from sklearn.metrics import roc_auc_score\n",
    "from sklearn.model_selection import train_test_split\n",
    "from sklearn.metrics import accuracy_score\n",
    "from sklearn.metrics import precision_score\n",
    "from sklearn.ensemble import RandomForestClassifier\n",
    "from sklearn.metrics import confusion_matrix\n",
    "from pandas.plotting import scatter_matrix\n",
    "from sklearn.linear_model import LogisticRegression\n",
    "from sklearn.preprocessing import StandardScaler\n",
    "from sklearn.preprocessing import LabelEncoder\n",
    "from imblearn.under_sampling import RandomUnderSampler\n",
    "from selenium.webdriver import Chrome, ChromeOptions"
   ]
  },
  {
   "cell_type": "markdown",
   "metadata": {},
   "source": [
    "## メイン関数"
   ]
  },
  {
   "cell_type": "code",
   "execution_count": 3,
   "metadata": {},
   "outputs": [],
   "source": [
    "def predict_lightgbm(model_lightgbm, parameters):\n",
    "\n",
    "    print(\"レース結果取得中\")\n",
    "    race_tables,race_infos = scrape_race_predict(parameters['predict_race_id'], parameters)\n",
    "    for key in race_tables:\n",
    "        race_tables[key].index = [key] * len(race_tables[key])\n",
    "    race_tables = pd.concat([race_tables[key] for key in race_tables], sort=False)\n",
    "    df_infos = pd.DataFrame(race_infos.values(), index=race_infos.keys())\n",
    "    predict_addinfo = race_tables.merge(df_infos,left_index=True,right_index=True,how='inner')\n",
    "    predict_addinfo['date'] = pd.to_datetime(predict_addinfo['date'],format='%Y年%m月%d日')\n",
    "\n",
    "    print(\"馬情報取得中\")\n",
    "    horse_id_list = predict_addinfo['horse_id'].unique()\n",
    "    horse_results = scrape_horse_results(horse_id_list)\n",
    "    for key in horse_results:\n",
    "        horse_results[key].index = [key] * len(horse_results[key])\n",
    "    df_horse_results = pd.concat([horse_results[key] for key in horse_results])\n",
    "    \n",
    "    print(\"ジョッキー情報取得中\")\n",
    "    jockey_id_list = predict_addinfo['jockey_id'].unique()\n",
    "    jockey_results = scrape_jockey_results(jockey_id_list)\n",
    "    for key in jockey_results:\n",
    "        jockey_results[key].index = [key] * len(jockey_results[key])\n",
    "    df_jockey_results = pd.concat([jockey_results[key] for key in jockey_results])\n",
    "    predict_addinfo = predict_addinfo.merge(df_jockey_results,left_on='jockey_id',right_index=True,how='left')\n",
    "\n",
    "    print(\"馬の生産地取得\")\n",
    "    borned_place_list = []\n",
    "    for i in range(len(predict_addinfo)):\n",
    "        borned_place_list.append(list(set(list(horse_results[predict_addinfo['horse_id'][i]][\"Borned_place\"])))[0])\n",
    "    predict_addinfo[\"Borned_place\"] = borned_place_list\n",
    "\n",
    "    print(\"データ結合中\")\n",
    "    hr = HorseResults(df_horse_results)\n",
    "    predict_all = hr.merge_all(predict_addinfo, n_samples=5)\n",
    "        \n",
    "    print(\"血統情報取得中\")\n",
    "    add_blood_predict = add_blood_data(horse_id_list,predict_all)\n",
    "    preprocess_df,horse_name = preprocess_race_predict(add_blood_predict)\n",
    "    predict_data = compare_df(preprocess_df)\n",
    "    \n",
    "    return predict_data,horse_name"
   ]
  },
  {
   "cell_type": "code",
   "execution_count": 4,
   "metadata": {},
   "outputs": [
    {
     "name": "stdout",
     "output_type": "stream",
     "text": [
      "レース結果取得中\n",
      "馬情報取得中\n"
     ]
    },
    {
     "data": {
      "application/vnd.jupyter.widget-view+json": {
       "model_id": "ceee9448e1d44e0e8fe734f86b1ca9f4",
       "version_major": 2,
       "version_minor": 0
      },
      "text/plain": [
       "HBox(children=(IntProgress(value=0, max=18), HTML(value='')))"
      ]
     },
     "metadata": {},
     "output_type": "display_data"
    },
    {
     "name": "stdout",
     "output_type": "stream",
     "text": [
      "\n",
      "ジョッキー情報取得中\n"
     ]
    },
    {
     "data": {
      "application/vnd.jupyter.widget-view+json": {
       "model_id": "00f425beb76f4091a625229fc26a9b73",
       "version_major": 2,
       "version_minor": 0
      },
      "text/plain": [
       "HBox(children=(IntProgress(value=0, max=18), HTML(value='')))"
      ]
     },
     "metadata": {},
     "output_type": "display_data"
    },
    {
     "name": "stdout",
     "output_type": "stream",
     "text": [
      "\n",
      "馬の生産地取得\n",
      "データ結合中\n"
     ]
    },
    {
     "name": "stderr",
     "output_type": "stream",
     "text": [
      "/opt/conda/lib/python3.7/site-packages/pandas/core/reshape/merge.py:618: UserWarning: merging between different levels can give an unintended result (1 levels on the left, 2 on the right)\n",
      "  warnings.warn(msg, UserWarning)\n"
     ]
    },
    {
     "data": {
      "application/vnd.jupyter.widget-view+json": {
       "model_id": "36800ab5f1e44b1db75b05a9f5911c55",
       "version_major": 2,
       "version_minor": 0
      },
      "text/plain": [
       "HBox(children=(IntProgress(value=0, max=1), HTML(value='')))"
      ]
     },
     "metadata": {},
     "output_type": "display_data"
    },
    {
     "name": "stdout",
     "output_type": "stream",
     "text": [
      "\n",
      "血統情報取得中\n"
     ]
    },
    {
     "data": {
      "application/vnd.jupyter.widget-view+json": {
       "model_id": "f56d567665d545d194ffdc6096102d18",
       "version_major": 2,
       "version_minor": 0
      },
      "text/plain": [
       "HBox(children=(IntProgress(value=0, max=18), HTML(value='')))"
      ]
     },
     "metadata": {},
     "output_type": "display_data"
    },
    {
     "name": "stdout",
     "output_type": "stream",
     "text": [
      "\n"
     ]
    }
   ],
   "source": [
    "def main(model_lightgbm, parameters):\n",
    "    return predict_lightgbm(model_lightgbm, parameters)\n",
    "\n",
    "if __name__ == \"__main__\":\n",
    "    main(model_lightgbm, parameters)"
   ]
  },
  {
   "cell_type": "markdown",
   "metadata": {},
   "source": [
    "## notebook only"
   ]
  },
  {
   "cell_type": "markdown",
   "metadata": {},
   "source": [
    "## 分析"
   ]
  },
  {
   "cell_type": "code",
   "execution_count": 5,
   "metadata": {
    "tags": []
   },
   "outputs": [
    {
     "name": "stdout",
     "output_type": "stream",
     "text": [
      "レース結果取得中\n",
      "馬情報取得中\n"
     ]
    },
    {
     "data": {
      "application/vnd.jupyter.widget-view+json": {
       "model_id": "ef80b07016b34704884b28b49f21dcfa",
       "version_major": 2,
       "version_minor": 0
      },
      "text/plain": [
       "HBox(children=(IntProgress(value=0, max=18), HTML(value='')))"
      ]
     },
     "metadata": {},
     "output_type": "display_data"
    },
    {
     "name": "stdout",
     "output_type": "stream",
     "text": [
      "\n",
      "ジョッキー情報取得中\n"
     ]
    },
    {
     "data": {
      "application/vnd.jupyter.widget-view+json": {
       "model_id": "3a0c7d920f224f9380a22699552a6de6",
       "version_major": 2,
       "version_minor": 0
      },
      "text/plain": [
       "HBox(children=(IntProgress(value=0, max=18), HTML(value='')))"
      ]
     },
     "metadata": {},
     "output_type": "display_data"
    },
    {
     "name": "stdout",
     "output_type": "stream",
     "text": [
      "\n",
      "馬の生産地取得\n",
      "データ結合中\n"
     ]
    },
    {
     "name": "stderr",
     "output_type": "stream",
     "text": [
      "/opt/conda/lib/python3.7/site-packages/pandas/core/reshape/merge.py:618: UserWarning: merging between different levels can give an unintended result (1 levels on the left, 2 on the right)\n",
      "  warnings.warn(msg, UserWarning)\n"
     ]
    },
    {
     "data": {
      "application/vnd.jupyter.widget-view+json": {
       "model_id": "b2d0d2dd6d56405d88455ad3e3eac361",
       "version_major": 2,
       "version_minor": 0
      },
      "text/plain": [
       "HBox(children=(IntProgress(value=0, max=1), HTML(value='')))"
      ]
     },
     "metadata": {},
     "output_type": "display_data"
    },
    {
     "name": "stdout",
     "output_type": "stream",
     "text": [
      "\n",
      "血統情報取得中\n"
     ]
    },
    {
     "data": {
      "application/vnd.jupyter.widget-view+json": {
       "model_id": "84145bd6e1a54ef5ad7bbe44311d8310",
       "version_major": 2,
       "version_minor": 0
      },
      "text/plain": [
       "HBox(children=(IntProgress(value=0, max=18), HTML(value='')))"
      ]
     },
     "metadata": {},
     "output_type": "display_data"
    },
    {
     "name": "stdout",
     "output_type": "stream",
     "text": [
      "\n"
     ]
    }
   ],
   "source": [
    "# 上記mainと同じく推論\n",
    "predict_data, horse_name = predict_lightgbm(model_lightgbm, parameters)"
   ]
  },
  {
   "cell_type": "code",
   "execution_count": 6,
   "metadata": {
    "tags": []
   },
   "outputs": [],
   "source": [
    "result_proba = model_lightgbm.predict_proba(predict_data)\n",
    "result = model_lightgbm.predict(predict_data)\n",
    "category1 = []\n",
    "category2 = []\n",
    "category3 = []\n",
    "\n",
    "for i in range(len(result)):\n",
    "    #print('馬番',i+1,\"予想カテゴリー\",result[i],result_proba[i])\n",
    "    category1.append(result_proba[i][0])\n",
    "    category2.append(result_proba[i][1])\n",
    "    category3.append(result_proba[i][2])"
   ]
  },
  {
   "cell_type": "code",
   "execution_count": 7,
   "metadata": {},
   "outputs": [],
   "source": [
    "cols = [\"馬名\",\"予想カテゴリー\",\"カテゴリー1\",\"カテゴリー2\",\"カテゴリー3\"]\n",
    "idx = [i for i in range(1,len(result)+1)]\n",
    "df = pd.DataFrame(index=idx, columns=cols)\n",
    "df[\"馬名\"] = list(horse_name)\n",
    "df[\"予想カテゴリー\"] = result\n",
    "df[\"カテゴリー1\"] = category1\n",
    "df[\"カテゴリー2\"] = category2\n",
    "df[\"カテゴリー3\"] = category3"
   ]
  },
  {
   "cell_type": "code",
   "execution_count": 8,
   "metadata": {},
   "outputs": [
    {
     "data": {
      "text/html": [
       "<div>\n",
       "<style scoped>\n",
       "    .dataframe tbody tr th:only-of-type {\n",
       "        vertical-align: middle;\n",
       "    }\n",
       "\n",
       "    .dataframe tbody tr th {\n",
       "        vertical-align: top;\n",
       "    }\n",
       "\n",
       "    .dataframe thead th {\n",
       "        text-align: right;\n",
       "    }\n",
       "</style>\n",
       "<table border=\"1\" class=\"dataframe\">\n",
       "  <thead>\n",
       "    <tr style=\"text-align: right;\">\n",
       "      <th></th>\n",
       "      <th>馬名</th>\n",
       "      <th>予想カテゴリー</th>\n",
       "      <th>カテゴリー1</th>\n",
       "      <th>カテゴリー2</th>\n",
       "      <th>カテゴリー3</th>\n",
       "    </tr>\n",
       "  </thead>\n",
       "  <tbody>\n",
       "    <tr>\n",
       "      <th>1</th>\n",
       "      <td>ベステンダンク</td>\n",
       "      <td>3</td>\n",
       "      <td>0.333333</td>\n",
       "      <td>0.333333</td>\n",
       "      <td>0.333333</td>\n",
       "    </tr>\n",
       "    <tr>\n",
       "      <th>2</th>\n",
       "      <td>ハッピーアワー</td>\n",
       "      <td>3</td>\n",
       "      <td>0.333333</td>\n",
       "      <td>0.333333</td>\n",
       "      <td>0.333333</td>\n",
       "    </tr>\n",
       "    <tr>\n",
       "      <th>17</th>\n",
       "      <td>ストーミーシー</td>\n",
       "      <td>3</td>\n",
       "      <td>0.333333</td>\n",
       "      <td>0.333333</td>\n",
       "      <td>0.333333</td>\n",
       "    </tr>\n",
       "    <tr>\n",
       "      <th>16</th>\n",
       "      <td>リバティハイツ</td>\n",
       "      <td>3</td>\n",
       "      <td>0.333333</td>\n",
       "      <td>0.333333</td>\n",
       "      <td>0.333333</td>\n",
       "    </tr>\n",
       "    <tr>\n",
       "      <th>15</th>\n",
       "      <td>ギルデッドミラー</td>\n",
       "      <td>3</td>\n",
       "      <td>0.333333</td>\n",
       "      <td>0.333333</td>\n",
       "      <td>0.333333</td>\n",
       "    </tr>\n",
       "    <tr>\n",
       "      <th>14</th>\n",
       "      <td>メイケイダイハード</td>\n",
       "      <td>3</td>\n",
       "      <td>0.333333</td>\n",
       "      <td>0.333333</td>\n",
       "      <td>0.333333</td>\n",
       "    </tr>\n",
       "    <tr>\n",
       "      <th>13</th>\n",
       "      <td>ラセット</td>\n",
       "      <td>3</td>\n",
       "      <td>0.333333</td>\n",
       "      <td>0.333333</td>\n",
       "      <td>0.333333</td>\n",
       "    </tr>\n",
       "    <tr>\n",
       "      <th>12</th>\n",
       "      <td>ミッキーブリランテ</td>\n",
       "      <td>3</td>\n",
       "      <td>0.333333</td>\n",
       "      <td>0.333333</td>\n",
       "      <td>0.333333</td>\n",
       "    </tr>\n",
       "    <tr>\n",
       "      <th>11</th>\n",
       "      <td>ソーグリッタリング</td>\n",
       "      <td>3</td>\n",
       "      <td>0.333333</td>\n",
       "      <td>0.333333</td>\n",
       "      <td>0.333333</td>\n",
       "    </tr>\n",
       "    <tr>\n",
       "      <th>10</th>\n",
       "      <td>プリンスリターン</td>\n",
       "      <td>3</td>\n",
       "      <td>0.333333</td>\n",
       "      <td>0.333333</td>\n",
       "      <td>0.333333</td>\n",
       "    </tr>\n",
       "    <tr>\n",
       "      <th>9</th>\n",
       "      <td>ブラックムーン</td>\n",
       "      <td>3</td>\n",
       "      <td>0.333333</td>\n",
       "      <td>0.333333</td>\n",
       "      <td>0.333333</td>\n",
       "    </tr>\n",
       "    <tr>\n",
       "      <th>8</th>\n",
       "      <td>ディメンシオン</td>\n",
       "      <td>3</td>\n",
       "      <td>0.333333</td>\n",
       "      <td>0.333333</td>\n",
       "      <td>0.333333</td>\n",
       "    </tr>\n",
       "    <tr>\n",
       "      <th>7</th>\n",
       "      <td>ケイアイノーテック</td>\n",
       "      <td>3</td>\n",
       "      <td>0.333333</td>\n",
       "      <td>0.333333</td>\n",
       "      <td>0.333333</td>\n",
       "    </tr>\n",
       "    <tr>\n",
       "      <th>6</th>\n",
       "      <td>ペプチドバンブー</td>\n",
       "      <td>3</td>\n",
       "      <td>0.333333</td>\n",
       "      <td>0.333333</td>\n",
       "      <td>0.333333</td>\n",
       "    </tr>\n",
       "    <tr>\n",
       "      <th>5</th>\n",
       "      <td>レッドレグナント</td>\n",
       "      <td>3</td>\n",
       "      <td>0.333333</td>\n",
       "      <td>0.333333</td>\n",
       "      <td>0.333333</td>\n",
       "    </tr>\n",
       "    <tr>\n",
       "      <th>4</th>\n",
       "      <td>トロワゼトワル</td>\n",
       "      <td>3</td>\n",
       "      <td>0.333333</td>\n",
       "      <td>0.333333</td>\n",
       "      <td>0.333333</td>\n",
       "    </tr>\n",
       "    <tr>\n",
       "      <th>3</th>\n",
       "      <td>ロードクエスト</td>\n",
       "      <td>3</td>\n",
       "      <td>0.333333</td>\n",
       "      <td>0.333333</td>\n",
       "      <td>0.333333</td>\n",
       "    </tr>\n",
       "    <tr>\n",
       "      <th>18</th>\n",
       "      <td>エントシャイデン</td>\n",
       "      <td>3</td>\n",
       "      <td>0.333333</td>\n",
       "      <td>0.333333</td>\n",
       "      <td>0.333333</td>\n",
       "    </tr>\n",
       "  </tbody>\n",
       "</table>\n",
       "</div>"
      ],
      "text/plain": [
       "           馬名  予想カテゴリー    カテゴリー1    カテゴリー2    カテゴリー3\n",
       "1     ベステンダンク        3  0.333333  0.333333  0.333333\n",
       "2     ハッピーアワー        3  0.333333  0.333333  0.333333\n",
       "17    ストーミーシー        3  0.333333  0.333333  0.333333\n",
       "16    リバティハイツ        3  0.333333  0.333333  0.333333\n",
       "15   ギルデッドミラー        3  0.333333  0.333333  0.333333\n",
       "14  メイケイダイハード        3  0.333333  0.333333  0.333333\n",
       "13       ラセット        3  0.333333  0.333333  0.333333\n",
       "12  ミッキーブリランテ        3  0.333333  0.333333  0.333333\n",
       "11  ソーグリッタリング        3  0.333333  0.333333  0.333333\n",
       "10   プリンスリターン        3  0.333333  0.333333  0.333333\n",
       "9     ブラックムーン        3  0.333333  0.333333  0.333333\n",
       "8     ディメンシオン        3  0.333333  0.333333  0.333333\n",
       "7   ケイアイノーテック        3  0.333333  0.333333  0.333333\n",
       "6    ペプチドバンブー        3  0.333333  0.333333  0.333333\n",
       "5    レッドレグナント        3  0.333333  0.333333  0.333333\n",
       "4     トロワゼトワル        3  0.333333  0.333333  0.333333\n",
       "3     ロードクエスト        3  0.333333  0.333333  0.333333\n",
       "18   エントシャイデン        3  0.333333  0.333333  0.333333"
      ]
     },
     "execution_count": 8,
     "metadata": {},
     "output_type": "execute_result"
    }
   ],
   "source": [
    "df.sort_values('カテゴリー1', ascending=False)"
   ]
  }
 ],
 "metadata": {
  "kernelspec": {
   "display_name": "forecastkeiba",
   "language": "python",
   "name": "python3"
  },
  "language_info": {
   "codemirror_mode": {
    "name": "ipython",
    "version": 3
   },
   "file_extension": ".py",
   "mimetype": "text/x-python",
   "name": "python",
   "nbconvert_exporter": "python",
   "pygments_lexer": "ipython3",
   "version": "3.7.4"
  }
 },
 "nbformat": 4,
 "nbformat_minor": 4
}
