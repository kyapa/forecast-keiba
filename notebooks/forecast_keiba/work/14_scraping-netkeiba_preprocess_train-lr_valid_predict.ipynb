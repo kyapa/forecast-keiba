{
 "cells": [
  {
   "cell_type": "markdown",
   "metadata": {},
   "source": [
    "## データ収集"
   ]
  },
  {
   "cell_type": "code",
   "execution_count": null,
   "metadata": {},
   "outputs": [],
   "source": [
    "# !pip install lxml\n",
    "# !pip install html5lib\n",
    "# !pip install bs4\n",
    "# !pip install imblearn"
   ]
  },
  {
   "cell_type": "code",
   "execution_count": null,
   "metadata": {},
   "outputs": [],
   "source": [
    "import pandas as pd"
   ]
  },
  {
   "cell_type": "code",
   "execution_count": null,
   "metadata": {},
   "outputs": [],
   "source": [
    "# # サンプル確認\n",
    "# url = 'https://db.netkeiba.com/race/202009030811/'\n",
    "\n",
    "# print(type(pd.read_html(url)[0]))\n",
    "# # -> df\n",
    "\n",
    "# pd.read_html(url)[0]\n",
    "# # -> \t着順\t枠番\t馬番\t馬名\t性齢\t斤量\t騎手\tタイム\t着差\t単勝\t人気\t馬体重\t調教師"
   ]
  },
  {
   "cell_type": "code",
   "execution_count": null,
   "metadata": {},
   "outputs": [],
   "source": [
    "import time\n",
    "\n",
    "def scrape_race_results(race_id_list: list)-> dict:\n",
    "    \"\"\"\n",
    "    netkeiba.comのレースIDのリストを渡して、それらをまとめて{'レースID', 結果のDataFrame}という形式の辞書型に格納する\n",
    "    race_results['201901010101']\n",
    "    -> df 着順\t枠番\t馬番\t馬名\t性齢\t斤量\t騎手\tタイム\t着差\t単勝\t人気\t馬体重\t調教師\n",
    "    \"\"\"\n",
    "    race_results_dict = {}\n",
    "    for race_id in race_id_list:\n",
    "        try:\n",
    "            url = 'https://db.netkeiba.com/race/' + race_id\n",
    "            race_results_dict[race_id] = pd.read_html(url)[0]\n",
    "            time.sleep(0.1)\n",
    "        except IndexError:\n",
    "            continue\n",
    "        except:\n",
    "            break\n",
    "    return race_results_dict"
   ]
  },
  {
   "cell_type": "code",
   "execution_count": null,
   "metadata": {},
   "outputs": [],
   "source": [
    "# race id を生成する（規則的に生成できる）\n",
    "# todo: 2019年に絞っている\n",
    "race_id_list = []\n",
    "\n",
    "for place in range(1,11):\n",
    "    for kai in range(1,6):\n",
    "        for day in range(1,9):\n",
    "            for r in range(1,13):\n",
    "                race_id = '2019' + str(place).zfill(2) + str(kai).zfill(2) + str(day).zfill(2) + str(r).zfill(2)\n",
    "                race_id_list.append(race_id)\n",
    "# -> ['201901010101', '201901010102', ,,, ]"
   ]
  },
  {
   "cell_type": "code",
   "execution_count": null,
   "metadata": {},
   "outputs": [],
   "source": [
    "# todo: listを絞っている\n",
    "race_results_dict = scrape_race_results(race_id_list[0:10])"
   ]
  },
  {
   "cell_type": "code",
   "execution_count": null,
   "metadata": {},
   "outputs": [],
   "source": [
    "# 表として見やすいように、dfのindexにrace idを入れる\n",
    "for key in race_results_dict.keys():\n",
    "    race_results_dict[key].index = [key]*len(race_results_dict[key])\n",
    "\n",
    "# 各レース結果のdfを1つに結合する\n",
    "race_results_df = pd.concat((race_results_dict[key] for key in race_results_dict.keys()),sort=False)"
   ]
  },
  {
   "cell_type": "code",
   "execution_count": null,
   "metadata": {},
   "outputs": [],
   "source": [
    "race_results_df.to_pickle('../../../data/raw/race_results_df.pickle')"
   ]
  },
  {
   "cell_type": "markdown",
   "metadata": {},
   "source": [
    "## 前処理"
   ]
  },
  {
   "cell_type": "code",
   "execution_count": null,
   "metadata": {},
   "outputs": [],
   "source": [
    "import pandas as pd"
   ]
  },
  {
   "cell_type": "code",
   "execution_count": null,
   "metadata": {},
   "outputs": [],
   "source": [
    "race_results_df = pd.read_pickle('../../../data/raw/race_results_df.pickle')"
   ]
  },
  {
   "cell_type": "code",
   "execution_count": null,
   "metadata": {},
   "outputs": [],
   "source": [
    "def preprocess_netkeiba_past(race_results_df):\n",
    "    df = race_results_df.copy()\n",
    "\n",
    "    # データ整形\n",
    "    df = df[~(df['着順'].astype(str).str.contains('\\D'))]\n",
    "    df['着順'] = df['着順'].astype(int)\n",
    "    df['性'] = df['性齢'].map(lambda x:str(x)[0])\n",
    "    df['年齢'] = df['性齢'].map(lambda x:str(x)[1:]).astype(int)\n",
    "    df['体重'] = df['馬体重'].str.split('(',expand = True)[0].astype(int)\n",
    "    df['体重変化'] = df['馬体重'].str.split('(',expand = True)[1].str[:-1].astype(int)\n",
    "    df['単勝'] = df['単勝'].astype(float)\n",
    "    \n",
    "    df.drop(['タイム','着差','調教師','性齢','馬体重'],axis = 1,inplace = True)\n",
    "\n",
    "    # 4位より下はまとめる\n",
    "    clip_rank = lambda x: x if x < 4 else 4\n",
    "    df['rank'] = df['着順'].map(clip_rank)\n",
    "\n",
    "    # test['馬名'].value_counts()などでカウントし、数が多そうなのは落とした後、ダミー変数化\n",
    "    df.drop(['着順','馬名','騎手'], axis = 1,inplace = True)\n",
    "    df = pd.get_dummies(df)\n",
    "    \n",
    "    return df"
   ]
  },
  {
   "cell_type": "code",
   "execution_count": null,
   "metadata": {},
   "outputs": [],
   "source": [
    "race_results_df_processed = preprocess_netkeiba_past(race_results_df)"
   ]
  },
  {
   "cell_type": "code",
   "execution_count": null,
   "metadata": {},
   "outputs": [],
   "source": [
    "race_results_df_processed.to_pickle('../../../data/processed/race_results_df_processed.pickle')"
   ]
  },
  {
   "cell_type": "markdown",
   "metadata": {},
   "source": [
    "## 学習"
   ]
  },
  {
   "cell_type": "code",
   "execution_count": null,
   "metadata": {},
   "outputs": [],
   "source": [
    "from sklearn.linear_model import LogisticRegression\n",
    "from sklearn.model_selection import train_test_split\n",
    "from sklearn.preprocessing import StandardScaler"
   ]
  },
  {
   "cell_type": "code",
   "execution_count": null,
   "metadata": {},
   "outputs": [],
   "source": [
    "race_results_df_processed = pd.read_pickle('../../../data/processed/race_results_df_processed.pickle')"
   ]
  },
  {
   "cell_type": "code",
   "execution_count": null,
   "metadata": {},
   "outputs": [],
   "source": [
    "# 説明変数の取得\n",
    "X = race_results_df_processed.drop(['rank'],axis=1)\n",
    "# 目的変数の取得\n",
    "y = race_results_df_processed['rank']\n",
    "\n",
    "# train と test に分離\n",
    "X_train,X_test,y_train,y_test = train_test_split(X,y,stratify=y,test_size=0.3,random_state=0)"
   ]
  },
  {
   "cell_type": "code",
   "execution_count": null,
   "metadata": {},
   "outputs": [],
   "source": [
    "# 下記で学習もできるが、今回はunder samplingを追加するのでコメントアウトする\n",
    "# # 学習\n",
    "# model = LogisticRegression()\n",
    "# model.fit(X_train,y_train)\n",
    "# print('train score: ' + str(model.score(X_train,y_train)))\n",
    "# print('test score: ' + str(model.score(X_test,y_test)))\n",
    "\n",
    "# # テストデータでの予測結果を取得し、出力する\n",
    "# y_pred = model.predict(X_test)\n",
    "# print(pd.DataFrame({'pred':y_pred,'actual':y_test}))"
   ]
  },
  {
   "cell_type": "code",
   "execution_count": null,
   "metadata": {},
   "outputs": [],
   "source": [
    "# ランダムアンダーサンプリング\n",
    "from imblearn.under_sampling import RandomUnderSampler\n",
    "\n",
    "cnt_rank_1 = y_train.value_counts()[1]\n",
    "cnt_rank_2 = y_train.value_counts()[2]\n",
    "cnt_rank_3 = y_train.value_counts()[3]\n",
    "\n",
    "rus = RandomUnderSampler(sampling_strategy={1:cnt_rank_1,2:cnt_rank_2,3:cnt_rank_3,4:cnt_rank_1},random_state=71)\n",
    "\n",
    "X_train_rus,y_train_rus = rus.fit_sample(X_train,y_train)"
   ]
  },
  {
   "cell_type": "code",
   "execution_count": null,
   "metadata": {},
   "outputs": [],
   "source": [
    "# 学習\n",
    "model = LogisticRegression()\n",
    "model.fit(X_train_rus,y_train_rus)\n",
    "print('train score: ' + str(model.score(X_train,y_train)))\n",
    "print('test score: ' + str(model.score(X_test,y_test)))"
   ]
  },
  {
   "cell_type": "code",
   "execution_count": null,
   "metadata": {},
   "outputs": [],
   "source": [
    "# テストデータでの予測結果を取得し、出力する\n",
    "y_pred = model.predict(X_test)\n",
    "print(pd.DataFrame({'pred':y_pred,'actual':y_test}))"
   ]
  },
  {
   "cell_type": "code",
   "execution_count": null,
   "metadata": {},
   "outputs": [],
   "source": [
    "import pickle\n",
    "pickle.dump(model, open('../../../data/models/14_scraping-netkeiba_preprocess_train-lr_valid_predict.pickle', 'wb'))"
   ]
  },
  {
   "cell_type": "code",
   "execution_count": null,
   "metadata": {},
   "outputs": [],
   "source": [
    "# 読み込み確認\n",
    "loaded_model = pickle.load(open('../../../data/models/14_scraping-netkeiba_preprocess_train-lr_valid_predict.pickle', 'rb'))\n",
    "result = loaded_model.score(X_test, y_test)\n",
    "print(result)"
   ]
  },
  {
   "cell_type": "markdown",
   "metadata": {},
   "source": [
    "## 検証"
   ]
  },
  {
   "cell_type": "code",
   "execution_count": null,
   "metadata": {},
   "outputs": [],
   "source": [
    "import random"
   ]
  },
  {
   "cell_type": "code",
   "execution_count": null,
   "metadata": {},
   "outputs": [],
   "source": [
    "# 検証のデータ準備\n",
    "\n",
    "race_results_df_processed_valid = pd.read_pickle('../../../data/processed/race_results_df_processed_valid_20200722.pickle')\n",
    "\n",
    "# 説明変数の取得\n",
    "X_valid = race_results_df_processed_valid.drop(['rank'],axis=1)\n",
    "# 目的変数の取得\n",
    "y_valid = race_results_df_processed_valid['rank']"
   ]
  },
  {
   "cell_type": "code",
   "execution_count": null,
   "metadata": {},
   "outputs": [],
   "source": [
    "# 推論実行\n",
    "model = pickle.load(open('../../../data/models/14_scraping-netkeiba_preprocess_train-lr_valid_predict.pickle', 'rb'))\n",
    "\n",
    "y_valid_pred = model.predict(X_valid)\n",
    "\n",
    "# 集計用に処理\n",
    "valid_results_df = pd.DataFrame({'pred':y_valid_pred,'actual':y_valid})\n",
    "race_id_list = list(set(list(valid_results_df.index)))\n",
    "valid_results_list = valid_results_df.reset_index().values.tolist()\n",
    "# シャッフル\n",
    "random.shuffle(valid_results_list)"
   ]
  },
  {
   "cell_type": "code",
   "execution_count": null,
   "metadata": {},
   "outputs": [],
   "source": [
    "# # 集計（1位正解率）\n",
    "# correct_count = 0\n",
    "# for race_id in race_id_list:\n",
    "#     pred_1_cnt_by_race = 0\n",
    "#     for i in range(len(valid_results_list)):\n",
    "#         # 対象レースidのうち、一位と予測された馬\n",
    "#         if valid_results_list[i][0] == race_id and valid_results_list[i][1] == 1:\n",
    "#             pred_1_cnt_by_race += 1\n",
    "#             # 対象レースidのうち一位と予測された馬が一つ目で、かつ結果も1位の場合\n",
    "#             if pred_1_cnt_by_race == 1 and valid_results_list[i][2] == 1:\n",
    "#                 correct_count += 1\n",
    "# print('rank1_acc: ' + str(correct_count/100))"
   ]
  },
  {
   "cell_type": "code",
   "execution_count": null,
   "metadata": {},
   "outputs": [],
   "source": [
    "# # 集計（1-3位正解率）\n",
    "# correct_count = 0\n",
    "# for race_id in race_id_list:\n",
    "#     pred_3_cnt_by_race = 0\n",
    "#     for rank in [1, 2, 3]:\n",
    "#         for i in range(len(valid_results_list)):\n",
    "#             # 対象レースidのうち、{rank}位と予測された馬\n",
    "#             if valid_results_list[i][0] == race_id and valid_results_list[i][1] == rank:\n",
    "#                 pred_3_cnt_by_race += 1\n",
    "#                 # 対象レースidのうち一位と予測された馬が一つ目で、かつ結果も1位の場合\n",
    "#                 if pred_3_cnt_by_race <= 3 and valid_results_list[i][2] == 1 or valid_results_list[i][2] == 2 or valid_results_list[i][2] == 3:\n",
    "#                     correct_count += 1\n",
    "# print('rank3_acc: ' + str(correct_count/300))"
   ]
  },
  {
   "cell_type": "code",
   "execution_count": null,
   "metadata": {},
   "outputs": [],
   "source": [
    "# 集計（馬単）\n",
    "correct_count = 0\n",
    "for race_id in race_id_list:\n",
    "    pred_cnt_by_race = 0\n",
    "    cnt_by_race = 0\n",
    "    for rank in [1]:\n",
    "        for i in range(len(valid_results_list)):\n",
    "            # 対象レースidのうち、{rank}位と予測された馬\n",
    "            if valid_results_list[i][0] == race_id and valid_results_list[i][1] == rank:\n",
    "                pred_cnt_by_race += 1\n",
    "                if pred_cnt_by_race <= 1 and (valid_results_list[i][2] == 1):\n",
    "                    cnt_by_race += 1\n",
    "    if cnt_by_race == 1:\n",
    "        correct_count += 1\n",
    "print('acc_exacta_1: ' + str(correct_count/100))"
   ]
  },
  {
   "cell_type": "code",
   "execution_count": null,
   "metadata": {},
   "outputs": [],
   "source": [
    "# 集計（馬連）\n",
    "correct_count = 0\n",
    "for race_id in race_id_list:\n",
    "    pred_cnt_by_race = 0\n",
    "    cnt_by_race = 0\n",
    "    for rank in [1, 2]:\n",
    "        for i in range(len(valid_results_list)):\n",
    "            # 対象レースidのうち、{rank}位と予測された馬\n",
    "            if valid_results_list[i][0] == race_id and valid_results_list[i][1] == rank:\n",
    "                pred_cnt_by_race += 1\n",
    "                if pred_cnt_by_race <= 2 and (valid_results_list[i][2] == 1 or valid_results_list[i][2] == 2):\n",
    "                    cnt_by_race += 1\n",
    "    if cnt_by_race == 2:\n",
    "        correct_count += 1\n",
    "print('acc_quinella_2: ' + str(correct_count/100))"
   ]
  },
  {
   "cell_type": "code",
   "execution_count": null,
   "metadata": {},
   "outputs": [],
   "source": [
    "# 集計（三連複）\n",
    "correct_count = 0\n",
    "for race_id in race_id_list:\n",
    "    pred_cnt_by_race = 0\n",
    "    cnt_by_race = 0\n",
    "    for rank in [1, 2, 3]:\n",
    "        for i in range(len(valid_results_list)):\n",
    "            # 対象レースidのうち、{rank}位と予測された馬\n",
    "            if valid_results_list[i][0] == race_id and valid_results_list[i][1] == rank:\n",
    "                pred_cnt_by_race += 1\n",
    "                if pred_cnt_by_race <= 3 and (valid_results_list[i][2] == 1 or valid_results_list[i][2] == 2 or valid_results_list[i][2] == 3):\n",
    "                    cnt_by_race += 1\n",
    "    if cnt_by_race == 3:\n",
    "        correct_count += 1\n",
    "print('acc_trio_3: ' + str(correct_count/100))"
   ]
  },
  {
   "cell_type": "markdown",
   "metadata": {},
   "source": [
    "## 推論"
   ]
  },
  {
   "cell_type": "code",
   "execution_count": null,
   "metadata": {},
   "outputs": [],
   "source": [
    "# seleniumによるクローリングの準備\n",
    "# # !wget https://dl.google.com/linux/direct/google-chrome-stable_current_amd64.deb\n",
    "# !dpkg -i google-chrome-stable_current_amd64.deb\n",
    "# !apt update\n",
    "# !apt -f install -y\n",
    "# !dpkg -i google-chrome-stable_current_amd64.deb\n",
    "# !apt install python3-selenium -y"
   ]
  },
  {
   "cell_type": "code",
   "execution_count": null,
   "metadata": {},
   "outputs": [],
   "source": [
    "# !apt install libgconf2-4 -y"
   ]
  },
  {
   "cell_type": "code",
   "execution_count": null,
   "metadata": {},
   "outputs": [],
   "source": [
    "from selenium import webdriver\n",
    "from selenium.webdriver.chrome.options import Options"
   ]
  },
  {
   "cell_type": "code",
   "execution_count": null,
   "metadata": {},
   "outputs": [],
   "source": [
    "model = pickle.load(open('../../../data/models/14_scraping-netkeiba_preprocess_train-lr_valid_predict.pickle', 'rb'))"
   ]
  },
  {
   "cell_type": "code",
   "execution_count": null,
   "metadata": {},
   "outputs": [],
   "source": [
    "# サンプルで動作確認\n",
    "# options = Options()\n",
    "# options.binary_location = '/usr/bin/google-chrome'\n",
    "# options.add_argument('--headless')\n",
    "# options.add_argument('--window-size=1280,1024')\n",
    "# options.add_argument(\"--no-sandbox\")\n",
    "\n",
    "# driver = webdriver.Chrome('chromedriver', chrome_options=options)\n",
    "# url = 'https://race.netkeiba.com/race/shutuba.html?race_id=202009040511'\n",
    "\n",
    "# driver.get(url)\n",
    "\n",
    "# sample_element = driver.find_elements_by_class_name('HorseList')[0]\n",
    "# sample_tds = sample_element.find_elements_by_tag_name('td')\n",
    "# for td in sample_tds:\n",
    "#     print(td.text)"
   ]
  },
  {
   "cell_type": "code",
   "execution_count": null,
   "metadata": {},
   "outputs": [],
   "source": [
    "race_id = '202009040611'\n",
    "url = 'https://race.netkeiba.com/race/shutuba.html?race_id=' + race_id"
   ]
  },
  {
   "cell_type": "code",
   "execution_count": null,
   "metadata": {},
   "outputs": [],
   "source": [
    "class ShutubaTable:\n",
    "    # 出馬表を作る\n",
    "    # = race plans\n",
    "    def __init__(self):\n",
    "        self.shutuba_table = pd.DataFrame()\n",
    "\n",
    "    def scrape_shutuba_table(self, race_id_list):\n",
    "        options = Options()\n",
    "        options.binary_location = '/usr/bin/google-chrome'\n",
    "        options.add_argument('--headless')\n",
    "        options.add_argument('--window-size=1280,1024')\n",
    "        options.add_argument(\"--no-sandbox\")\n",
    "        driver = webdriver.Chrome('chromedriver', chrome_options=options)\n",
    "        for race_id in race_id_list:\n",
    "            url  = 'https://race.netkeiba.com/race/shutuba.html?race_id='\\\n",
    "                      + race_id\n",
    "            driver.get(url)\n",
    "            elements = driver.find_elements_by_class_name('HorseList')\n",
    "            for element in elements:\n",
    "                row = []\n",
    "                tds = element.find_elements_by_tag_name('td')\n",
    "                for td in tds:\n",
    "                    row.append(td.text)\n",
    "                self.shutuba_table = self.shutuba_table.append(pd.Series(row, name=race_id))\n",
    "        driver.close()"
   ]
  },
  {
   "cell_type": "code",
   "execution_count": null,
   "metadata": {},
   "outputs": [],
   "source": [
    "st = ShutubaTable()\n",
    "st.scrape_shutuba_table([race_id])"
   ]
  },
  {
   "cell_type": "code",
   "execution_count": null,
   "metadata": {},
   "outputs": [],
   "source": [
    "race_plans_df = st.shutuba_table"
   ]
  },
  {
   "cell_type": "code",
   "execution_count": null,
   "metadata": {},
   "outputs": [],
   "source": [
    "def preprocess_netkeiba_future(race_plans_df):\n",
    "    df = race_plans_df.copy()\n",
    "    \n",
    "    df = df.rename(columns={0 :'枠番',1:'馬番',3:'馬名',4:'性齢',5:'斤量',6:'騎手',7:'厩舎',8:'馬体重',9:'単勝',10:'人気'})\n",
    "    df['性'] = df['性齢'].map(lambda x:str(x)[0])\n",
    "    df['年齢'] = df['性齢'].map(lambda x:str(x)[1:]).astype(int)\n",
    "    df['体重'] = df['馬体重'].str.split('(',expand = True)[0].astype(int)\n",
    "    df['体重変化'] = df['馬体重'].str.split('(',expand = True)[1].str[:-1].astype(int)\n",
    "    df['単勝'] = df['単勝'].astype(float)\n",
    "    df['人気'] = df['人気'].astype(float)\n",
    "    df['枠番'] = df['枠番'].astype(int)\n",
    "    df['馬番'] = df['馬番'].astype(int)\n",
    "    df['斤量'] = df['斤量'].astype(float)\n",
    "    df['斤量'] = df['斤量'].astype(int)\n",
    "    df.drop([2,11,12,'厩舎','性齢','馬体重','馬名','騎手'],axis = 1,inplace = True)\n",
    "    df['性_セ'] = [0] * 18\n",
    "    df = pd.get_dummies(df)\n",
    "\n",
    "    return df"
   ]
  },
  {
   "cell_type": "code",
   "execution_count": null,
   "metadata": {},
   "outputs": [],
   "source": [
    "race_plans_df_processed = preprocess_netkeiba_future(race_plans_df)"
   ]
  },
  {
   "cell_type": "code",
   "execution_count": null,
   "metadata": {},
   "outputs": [],
   "source": [
    "# テストデータでの予測結果を取得し、出力する\n",
    "y_pred = model.predict(race_plans_df_processed)\n",
    "print(pd.DataFrame({'pred':y_pred}))"
   ]
  }
 ],
 "metadata": {
  "kernelspec": {
   "display_name": "Python 3",
   "language": "python",
   "name": "python3"
  },
  "language_info": {
   "codemirror_mode": {
    "name": "ipython",
    "version": 3
   },
   "file_extension": ".py",
   "mimetype": "text/x-python",
   "name": "python",
   "nbconvert_exporter": "python",
   "pygments_lexer": "ipython3",
   "version": "3.7.4"
  }
 },
 "nbformat": 4,
 "nbformat_minor": 4
}
