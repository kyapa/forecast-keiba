{
 "cells": [
  {
   "cell_type": "code",
   "execution_count": null,
   "metadata": {},
   "outputs": [],
   "source": [
    "import pandas as pd\n",
    "import pickle\n",
    "import time\n",
    "from tqdm.notebook import tqdm\n",
    "import datetime as dt\n",
    "import requests\n",
    "from bs4 import BeautifulSoup\n",
    "import re\n",
    "import numpy as np\n",
    "import matplotlib as mpl\n",
    "import matplotlib.pyplot as plt\n",
    "%matplotlib inline\n",
    "import seaborn as sns\n",
    "from sklearn.metrics import roc_auc_score\n",
    "from sklearn.model_selection import train_test_split\n",
    "from sklearn.metrics import accuracy_score\n",
    "from sklearn.metrics import precision_score\n",
    "from sklearn.ensemble import RandomForestClassifier\n",
    "from sklearn.metrics import confusion_matrix\n",
    "from pandas.plotting import scatter_matrix\n",
    "from sklearn.linear_model import LogisticRegression\n",
    "from sklearn.preprocessing import StandardScaler\n",
    "from sklearn.preprocessing import LabelEncoder\n",
    "from imblearn.under_sampling import RandomUnderSampler\n",
    "import lightgbm as lgb"
   ]
  },
  {
   "cell_type": "code",
   "execution_count": null,
   "metadata": {},
   "outputs": [],
   "source": [
    "def split_data(df,test_size):\n",
    "    sorted_id_list = df.sort_values('date').index.unique()\n",
    "    train_id_list = sorted_id_list[:round(len(sorted_id_list)*(1-test_size))]\n",
    "    test_id_list = sorted_id_list[round(len(sorted_id_list)*(1-test_size)):]\n",
    "    train = df.loc[train_id_list]\n",
    "    test = df.loc[test_id_list]\n",
    "    return train,test"
   ]
  },
  {
   "cell_type": "code",
   "execution_count": null,
   "metadata": {},
   "outputs": [],
   "source": [
    "race_results_df_processed = pd.read_pickle('pickle_data/race_results_df_processed.pickle')"
   ]
  },
  {
   "cell_type": "code",
   "execution_count": null,
   "metadata": {},
   "outputs": [],
   "source": [
    "def train_lightgbm(race_results_df_processed):\n",
    "    race_results_df_processed.sort_values('date', ascending=False)\n",
    "    df = race_results_df_processed[(race_results_df_processed['date'] > dt.datetime(2010,1,1)) & (race_results_df_processed['date'] < dt.datetime(2019,12,31))]\n",
    "    df['rank'] = df['着順'].map(lambda x: 1 if x < 6 else (3 if x > 11 else 2))\n",
    "    df.to_pickle('pickle_data/train_data.pickle')\n",
    "    train,test = split_data(df,0.3)\n",
    "    rank_1 = train['rank'].value_counts()[1]\n",
    "    rank_2 = train['rank'].value_counts()[2]\n",
    "    rank_3 = train['rank'].value_counts()[3]\n",
    "    rus = RandomUnderSampler(sampling_strategy={1:rank_1,2:rank_2,3:rank_3},random_state=71)\n",
    "\n",
    "    X_train = train.drop(['着順','date','rank'],axis=1)\n",
    "    y_train = train['rank']\n",
    "    X_test = test.drop(['着順','date','rank'],axis=1)\n",
    "    y_test = test['rank']\n",
    "\n",
    "    X_train_rus,y_train_rus = rus.fit_sample(X_train,y_train)\n",
    "    \n",
    "    params = {\n",
    "    \"num_leaves\": 64,\n",
    "    \"n_estimators\": 80,\n",
    "    \"class_weight\": \"balanced\",\n",
    "    \"random_state\": 100,\n",
    "    \"max_depth\": 24,\n",
    "    }\n",
    "\n",
    "    lgb_clf = lgb.LGBMClassifier(**params)\n",
    "    lgb_clf.fit(X_train_rus.values,y_train_rus.values)\n",
    "\n",
    "    print(lgb_clf.score(X_train,y_train),lgb_clf.score(X_test,y_test))\n",
    "    \n",
    "    importances = pd.DataFrame(\n",
    "    {\"features\": X_train.columns, \"importance\": lgb_clf.feature_importances_}\n",
    "    )\n",
    "    print(importances.sort_values(\"importance\", ascending=False)[:20])\n",
    "    \n",
    "    return lgb_clf"
   ]
  },
  {
   "cell_type": "code",
   "execution_count": null,
   "metadata": {
    "tags": []
   },
   "outputs": [],
   "source": [
    "lgb_clf = train_lightgbm(race_results_df_processed)\n",
    "pickle.dump(lgb_clf, open('pickle_data/lightgbm.pickle', 'wb'))"
   ]
  }
 ],
 "metadata": {
  "kernelspec": {
   "display_name": "Python 3",
   "language": "python",
   "name": "python3"
  },
  "language_info": {
   "codemirror_mode": {
    "name": "ipython",
    "version": 3
   },
   "file_extension": ".py",
   "mimetype": "text/x-python",
   "name": "python",
   "nbconvert_exporter": "python",
   "pygments_lexer": "ipython3",
   "version": "3.7.7"
  }
 },
 "nbformat": 4,
 "nbformat_minor": 4
}
